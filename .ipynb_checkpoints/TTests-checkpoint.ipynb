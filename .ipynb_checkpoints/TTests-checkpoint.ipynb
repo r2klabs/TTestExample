{
 "cells": [
  {
   "cell_type": "markdown",
   "metadata": {},
   "source": [
    "# Performing a T-Test\n",
    "---\n",
    "**Author:** Robert Kelley  \n",
    "**Version:** 1.0  \n",
    "**Semester:** Spring 2021  \n",
    "**Summary:**  \n",
    "\n",
    "I developed this notebook to demonstrate how to using numpy and scipy.stats to run a T-Test.  The original article from which I derived this code can be found at:  https://towardsdatascience.com/inferential-statistics-series-t-test-using-numpy-2718f8f9bf2f."
   ]
  },
  {
   "cell_type": "markdown",
   "metadata": {},
   "source": [
    "## Import Packages"
   ]
  },
  {
   "cell_type": "code",
   "execution_count": 1,
   "metadata": {},
   "outputs": [],
   "source": [
    "import numpy as np\n",
    "from scipy import stats"
   ]
  },
  {
   "cell_type": "markdown",
   "metadata": {},
   "source": [
    "## Define random distributions\n",
    "Define two random distributions and set the size of the sample. The original was 10 samples, but T-Tests were designed for sample sizes of 30 or more."
   ]
  },
  {
   "cell_type": "code",
   "execution_count": 7,
   "metadata": {},
   "outputs": [
    {
     "name": "stdout",
     "output_type": "stream",
     "text": [
      "The Distributions are:\n",
      "A: [ 2.634866    1.0478871   2.23890356  1.70962278  1.41299146  2.21346797\n",
      "  2.20635029 -0.14278988  0.50220704  2.69980627  3.75547318  1.5556421\n",
      "  1.63806643  0.77458061  1.31474997  1.57162656  2.50160824  3.13434712\n",
      "  1.43535674  2.50905948  1.61208325  0.75168194  3.1705244   2.24861477\n",
      "  0.62126949  1.49071959  0.81971374  3.44813792  2.96878878  3.55443862]\n",
      "B: [ 1.1833217   0.68586386  0.60076522 -2.88767256 -0.59511918  0.86401639\n",
      " -1.31610959 -0.39610883 -0.92343755  0.63459437 -0.25882198  2.0993389\n",
      " -1.22420063  0.6537706  -1.11044033  0.41004048  0.04786377  1.33155102\n",
      "  0.16082557 -1.06911373 -0.05778172  0.34485765  1.23841149 -1.21104328\n",
      "  0.1625334  -1.78399631  1.13882417 -0.39679161  0.27445829  0.86291582]\n"
     ]
    }
   ],
   "source": [
    "N = 30\n",
    "#Gaussian distributed data with mean = 2 and var = 1\n",
    "a = np.random.randn(N) + 2\n",
    "#Gaussian distributed data with with mean = 0 and var = 1\n",
    "b = np.random.randn(N)\n",
    "print('The Distributions are:')\n",
    "print('A:', a)\n",
    "print('B:', b)"
   ]
  },
  {
   "cell_type": "markdown",
   "metadata": {},
   "source": [
    "## Calculate the Standard Deviation\n",
    "Here we calculate both the variance and the standard deviation (which is square root of variance).\n",
    "For unbiased max likelihood estimate we have to divide the var by N-1, and therefore the parameter ddof = 1"
   ]
  },
  {
   "cell_type": "code",
   "execution_count": 8,
   "metadata": {},
   "outputs": [],
   "source": [
    "var_a = a.var(ddof=1)\n",
    "var_b = b.var(ddof=1)\n",
    "\n",
    "s = np.sqrt((var_a + var_b)/2)"
   ]
  },
  {
   "cell_type": "markdown",
   "metadata": {},
   "source": [
    "## Calculate the T-Statistics\n",
    "We'll calculate the T-stat, compare with the t-value and determine the p-value. "
   ]
  },
  {
   "cell_type": "code",
   "execution_count": 15,
   "metadata": {},
   "outputs": [
    {
     "name": "stdout",
     "output_type": "stream",
     "text": [
      "df = 58\n",
      "t = 7.17847066837843\n",
      "p = 1.4695462624558786e-09\n"
     ]
    }
   ],
   "source": [
    "t = (a.mean() - b.mean())/(s*np.sqrt(2/N))\n",
    "df = 2*N - 2\n",
    "p = 1 - stats.t.cdf(t,df=df)\n",
    "\n",
    "print(\"df = \" + str(df))\n",
    "print(\"t = \" + str(t))\n",
    "print(\"p = \" + str(2*p))"
   ]
  },
  {
   "cell_type": "markdown",
   "metadata": {},
   "source": [
    "You can see that after comparing the t statistic with the critical t value (computed internally) we get a good p value of 0.0005 and thus we reject the null hypothesis and thus it proves that the mean of the two distributions are different and statistically significant.\n"
   ]
  },
  {
   "cell_type": "markdown",
   "metadata": {},
   "source": [
    "## Cross Checking \n",
    "Let's cross check it with the internal scipy function"
   ]
  },
  {
   "cell_type": "code",
   "execution_count": 14,
   "metadata": {},
   "outputs": [
    {
     "name": "stdout",
     "output_type": "stream",
     "text": [
      "t = 7.178470668378428\n",
      "p = 1.4695461321187283e-09\n"
     ]
    }
   ],
   "source": [
    "t2, p2 = stats.ttest_ind(a,b)\n",
    "print(\"t = \" + str(t2))\n",
    "print(\"p = \" + str(p2))"
   ]
  }
 ],
 "metadata": {
  "kernelspec": {
   "display_name": "Python 3",
   "language": "python",
   "name": "python3"
  },
  "language_info": {
   "codemirror_mode": {
    "name": "ipython",
    "version": 3
   },
   "file_extension": ".py",
   "mimetype": "text/x-python",
   "name": "python",
   "nbconvert_exporter": "python",
   "pygments_lexer": "ipython3",
   "version": "3.8.5"
  }
 },
 "nbformat": 4,
 "nbformat_minor": 4
}
